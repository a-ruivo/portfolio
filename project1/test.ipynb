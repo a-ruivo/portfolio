{
 "cells": [
  {
   "cell_type": "markdown",
   "id": "ccff65bb",
   "metadata": {},
   "source": [
    "## <h1> Preparando os dados <h1>"
   ]
  },
  {
   "cell_type": "code",
   "execution_count": 8,
   "id": "25a3c54b",
   "metadata": {},
   "outputs": [],
   "source": [
    "import pandas as pd\n",
    "import psycopg2\n",
    "import os\n",
    "from dotenv import load_dotenv\n",
    "\n",
    "# Carregar variáveis do arquivo .env\n",
    "load_dotenv()\n",
    "\n",
    "# Acessar credenciais\n",
    "db_name = os.getenv(\"DB_NAME\")\n",
    "db_user = os.getenv(\"DB_USER\")\n",
    "db_password = os.getenv(\"DB_PASSWORD\")\n",
    "# Configuração do PostgreSQL\n",
    "PG_CONFIG = {\n",
    "    \"dbname\": db_name,\n",
    "    \"user\": db_user,\n",
    "    \"password\": db_password,\n",
    "    \"host\": \"localhost\",\n",
    "    \"port\": \"5432\"\n",
    "}"
   ]
  },
  {
   "cell_type": "code",
   "execution_count": 9,
   "id": "13d35546",
   "metadata": {},
   "outputs": [],
   "source": [
    "# Conectar ao PostgreSQL\n",
    "conn_pg = psycopg2.connect(**PG_CONFIG)\n",
    "cursor_pg = conn_pg.cursor()"
   ]
  },
  {
   "cell_type": "code",
   "execution_count": 10,
   "id": "8f88c232",
   "metadata": {},
   "outputs": [],
   "source": [
    "# Executar consulta SQL\n",
    "cursor_pg.execute(\"SELECT * FROM cnae_classe\")\n",
    "\n",
    "# Obter dados e colunas\n",
    "dados = cursor_pg.fetchall()\n",
    "colunas = [desc[0] for desc in cursor_pg.description]  # Pegando os nomes das colunas\n",
    "\n",
    "# Criar DataFrame\n",
    "df = pd.DataFrame(dados, columns=colunas)"
   ]
  },
  {
   "cell_type": "code",
   "execution_count": 11,
   "id": "09f47526",
   "metadata": {},
   "outputs": [],
   "source": [
    "# Fechar conexão\n",
    "cursor_pg.close()\n",
    "conn_pg.close()"
   ]
  },
  {
   "cell_type": "code",
   "execution_count": 12,
   "id": "7e9c0832",
   "metadata": {},
   "outputs": [
    {
     "name": "stdout",
     "output_type": "stream",
     "text": [
      "     id                                          descricao  \\\n",
      "0  1113                                 CULTIVO DE CEREAIS   \n",
      "1  1121  CULTIVO DE ALGODÃO HERBÁCEO E DE OUTRAS FIBRAS...   \n",
      "2  1130                          CULTIVO DE CANA-DE-AÇÚCAR   \n",
      "3  1148                                    CULTIVO DE FUMO   \n",
      "4  1156                                    CULTIVO DE SOJA   \n",
      "\n",
      "                                         observacoes  \\\n",
      "0  Esta classe compreende - o cultivo de alpiste,...   \n",
      "1  Esta classe compreende - o cultivo de algodão ...   \n",
      "2  Esta classe compreende - o cultivo de cana-de-...   \n",
      "3  Esta classe compreende - o cultivo de fumo, Es...   \n",
      "4  Esta classe compreende - o cultivo de soja, Es...   \n",
      "\n",
      "                   criado_em  \n",
      "0 2025-06-15 01:59:38.111958  \n",
      "1 2025-06-15 01:59:38.111958  \n",
      "2 2025-06-15 01:59:38.111958  \n",
      "3 2025-06-15 01:59:38.111958  \n",
      "4 2025-06-15 01:59:38.111958  \n"
     ]
    }
   ],
   "source": [
    "# Exibir DataFrame\n",
    "print(df.head())  # Exibe as primeiras linhas"
   ]
  },
  {
   "cell_type": "code",
   "execution_count": null,
   "id": "4ebf0669",
   "metadata": {},
   "outputs": [
    {
     "name": "stdout",
     "output_type": "stream",
     "text": [
      "Resposta da API:\n",
      "{\"message\":\"Workflow was started\"}\n"
     ]
    }
   ],
   "source": [
    "import requests\n",
    "\n",
    "url = \"http://localhost:5678/webhook/0d8205fd-345d-4e28-aeca-ed557de86a22\"\n",
    "\n",
    "response = requests.get(url)\n",
    "\n",
    "if response.status_code == 200:\n",
    "    print(\"Resposta da API:\")\n",
    "    print(response.text)\n",
    "else:\n",
    "    print(f\"Erro {response.status_code}: {response.reason}\")\n"
   ]
  }
 ],
 "metadata": {
  "kernelspec": {
   "display_name": "Python 3",
   "language": "python",
   "name": "python3"
  },
  "language_info": {
   "codemirror_mode": {
    "name": "ipython",
    "version": 3
   },
   "file_extension": ".py",
   "mimetype": "text/x-python",
   "name": "python",
   "nbconvert_exporter": "python",
   "pygments_lexer": "ipython3",
   "version": "3.12.3"
  }
 },
 "nbformat": 4,
 "nbformat_minor": 5
}
