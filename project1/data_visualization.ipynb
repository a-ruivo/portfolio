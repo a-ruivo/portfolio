{
 "cells": [
  {
   "cell_type": "code",
   "execution_count": null,
   "id": "19efcec8",
   "metadata": {},
   "outputs": [
    {
     "ename": "",
     "evalue": "",
     "output_type": "error",
     "traceback": [
      "\u001b[1;31mRunning cells with 'Python 3.12.3' requires the ipykernel package.\n",
      "\u001b[1;31m<a href='command:jupyter.createPythonEnvAndSelectController'>Create a Python Environment</a> with the required packages.\n",
      "\u001b[1;31mOr install 'ipykernel' using the command: '/bin/python3 -m pip install ipykernel -U --user --force-reinstall'"
     ]
    }
   ],
   "source": [
    "import os\n",
    "import pandas as pd\n",
    "import numpy as np\n",
    "from dotenv import load_dotenv\n",
    "\n",
    "# Carregar variáveis do arquivo .env\n",
    "load_dotenv()\n",
    "\n",
    "# Acessar credenciais\n",
    "db_name = os.getenv(\"DB_NAME\")\n",
    "db_user = os.getenv(\"DB_USER\")\n",
    "db_password = os.getenv(\"DB_PASSWORD\")\n",
    "# Configuração do PostgreSQL\n",
    "PG_CONFIG = {\n",
    "    \"dbname\": db_name,\n",
    "    \"user\": db_user,\n",
    "    \"password\": db_password,\n",
    "    \"host\": \"localhost\",\n",
    "    \"port\": \"5432\"\n",
    "}\n"
   ]
  },
  {
   "cell_type": "code",
   "execution_count": null,
   "id": "8a3ef1fb",
   "metadata": {},
   "outputs": [],
   "source": [
    "conn_pg = psycopg2.connect(**PG_CONFIG)\n",
    "cursor_pg = conn_pg.cursor()\n",
    "\n",
    "'''cursor_pg.execute(\"\"\"\n",
    "    select * from cnae_classe\n",
    "\"\"\")'''\n",
    "\n",
    "    # Obter dados e colunas\n",
    "dados = cursor_pg.fetchall()\n",
    "colunas = [desc[0] for desc in cursor_pg.description]  # Pegando os nomes das colunas\n",
    "\n",
    "# Criar DataFrame\n",
    "df = pd.DataFrame(dados, columns=colunas)\n",
    "\n",
    "# Fechar conexão\n",
    "cursor_pg.close()\n",
    "conn_pg.close()\n",
    "\n",
    "# Exibir DataFrame\n",
    "print(df.head())  # Exibe as primeiras linhas"
   ]
  }
 ],
 "metadata": {
  "kernelspec": {
   "display_name": "Python 3",
   "language": "python",
   "name": "python3"
  },
  "language_info": {
   "name": "python",
   "version": "3.12.3"
  }
 },
 "nbformat": 4,
 "nbformat_minor": 5
}
