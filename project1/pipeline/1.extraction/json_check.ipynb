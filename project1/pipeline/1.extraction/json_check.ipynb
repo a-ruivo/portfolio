{
 "cells": [
  {
   "cell_type": "code",
   "execution_count": 4,
   "id": "e1f8447f",
   "metadata": {},
   "outputs": [
    {
     "name": "stdout",
     "output_type": "stream",
     "text": [
      "[1/5] Extraindo dados da API IBGE...\n"
     ]
    }
   ],
   "source": [
    "import requests\n",
    "import pandas as pd\n",
    "import psycopg2\n",
    "import os\n",
    "import json\n",
    "from dotenv import load_dotenv\n",
    "\n",
    "# Caminho para o banco DuckDB\n",
    "DUCKDB_PATH = \"populacao_duckdb.db\"\n",
    "\n",
    "# Carrega variáveis do .env\n",
    "load_dotenv()\n",
    "\n",
    "# Validação das variáveis obrigatórias\n",
    "required_vars = [\"DB_NAME\", \"DB_USER\", \"DB_PASSWORD\"]\n",
    "missing = [var for var in required_vars if os.getenv(var) is None]\n",
    "if missing:\n",
    "    raise EnvironmentError(f\"Variáveis ausentes no .env: {', '.join(missing)}\")\n",
    "\n",
    "# Configuração do PostgreSQL\n",
    "PG_CONFIG = {\n",
    "    \"dbname\": os.getenv(\"DB_NAME\"),\n",
    "    \"user\": os.getenv(\"DB_USER\"),\n",
    "    \"password\": os.getenv(\"DB_PASSWORD\"),\n",
    "    \"host\": os.getenv(\"DB_HOST\", \"localhost\"),\n",
    "    \"port\": os.getenv(\"DB_PORT\", \"5432\")\n",
    "}\n",
    "\n",
    "# URL da API\n",
    "URL = \"https://servicodados.ibge.gov.br/api/v3/agregados/1209/periodos/2000|2010|2022/variaveis/606?localidades=N3[all]&classificacao=58[all]\"\n",
    "\n",
    "def extrair_dados():\n",
    "    print(\"[1/5] Extraindo dados da API IBGE...\")\n",
    "    response = requests.get(URL)\n",
    "    if response.status_code == 200:\n",
    "        return response.json()\n",
    "    else:\n",
    "        raise Exception(f\"Erro ao acessar API IBGE: {response.status_code}\")\n",
    "\n",
    "# Executa funções e exibe os dados\n",
    "json_data = extrair_dados()\n",
    "\n",
    "with open(\"resposta_ibge.json\", \"w\", encoding=\"utf-8\") as f:\n",
    "    json.dump(json_data, f, ensure_ascii=False, indent=2)"
   ]
  }
 ],
 "metadata": {
  "kernelspec": {
   "display_name": "Python 3",
   "language": "python",
   "name": "python3"
  },
  "language_info": {
   "codemirror_mode": {
    "name": "ipython",
    "version": 3
   },
   "file_extension": ".py",
   "mimetype": "text/x-python",
   "name": "python",
   "nbconvert_exporter": "python",
   "pygments_lexer": "ipython3",
   "version": "3.12.3"
  }
 },
 "nbformat": 4,
 "nbformat_minor": 5
}
