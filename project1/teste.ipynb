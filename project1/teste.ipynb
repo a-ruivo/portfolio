{
 "cells": [
  {
   "cell_type": "code",
   "execution_count": 7,
   "id": "e2259357",
   "metadata": {},
   "outputs": [],
   "source": [
    "import requests\n",
    "# URL da API IBGE\n",
    "URL = \"https://servicodados.ibge.gov.br/api/v3/agregados/1288/periodos/1950|1960|1970|1980|1991|2000|2010/variaveis/606?localidades=N3[all]&classificacao=1[all]\"\n",
    "\n",
    "# Função para extrair os dados da API\n",
    "def extrair_dados():\n",
    "    response = requests.get(URL)\n",
    "    if response.status_code == 200:\n",
    "        return response.json()\n",
    "    else:\n",
    "        print(f\"Erro ao acessar API: {response.status_code}\")\n",
    "        return []"
   ]
  },
  {
   "cell_type": "code",
   "execution_count": 15,
   "id": "04c349b9",
   "metadata": {},
   "outputs": [
    {
     "name": "stdout",
     "output_type": "stream",
     "text": [
      "                                           id   variavel  unidade  \\\n",
      "0  id    606\n",
      "id      1\n",
      "Name: 0, dtype: object  População  Pessoas   \n",
      "1  id    606\n",
      "id      1\n",
      "Name: 0, dtype: object  População  Pessoas   \n",
      "2  id    606\n",
      "id      1\n",
      "Name: 0, dtype: object  População  Pessoas   \n",
      "3  id    606\n",
      "id      1\n",
      "Name: 0, dtype: object  População  Pessoas   \n",
      "4  id    606\n",
      "id      1\n",
      "Name: 0, dtype: object  População  Pessoas   \n",
      "\n",
      "  categoria_id categoria_nome localidade_id localidade_nome nivel_id  \\\n",
      "0         None           None            11        Rondônia       N3   \n",
      "1         None           None            11        Rondônia       N3   \n",
      "2         None           None            11        Rondônia       N3   \n",
      "3         None           None            11        Rondônia       N3   \n",
      "4         None           None            11        Rondônia       N3   \n",
      "\n",
      "             nivel_nome   ano    valor  \n",
      "0  Unidade da Federação  1950    36935  \n",
      "1  Unidade da Federação  1960    70783  \n",
      "2  Unidade da Federação  1970   116620  \n",
      "3  Unidade da Federação  1980   503125  \n",
      "4  Unidade da Federação  1991  1130874  \n"
     ]
    }
   ],
   "source": [
    "import pandas as pd\n",
    "import json\n",
    "\n",
    "# Suponha que você tenha um JSON como este:\n",
    "dados = extrair_dados()\n",
    "\n",
    "# Explode a camada 'resultados'\n",
    "resultados = pd.json_normalize(\n",
    "    dados,\n",
    "    record_path=['resultados'],\n",
    "    meta=['id', 'variavel', 'unidade']\n",
    ")\n",
    "\n",
    "# Explode a coluna 'classificacoes'\n",
    "resultados = resultados.explode('classificacoes').reset_index(drop=True)\n",
    "\n",
    "# Extrai informações da coluna 'classificacoes'\n",
    "classificacoes_df = pd.json_normalize(resultados['classificacoes'])\n",
    "resultados = pd.concat([resultados.drop(columns=['classificacoes']), classificacoes_df], axis=1)\n",
    "\n",
    "# Lida com a lista 'series' e extrai informações tabulares\n",
    "linha_list = []\n",
    "for _, row in resultados.iterrows():\n",
    "    for item in row['series']:\n",
    "        localidade = item['localidade']\n",
    "        serie_anos = item['serie']\n",
    "        \n",
    "        # Trata categoria de forma segura\n",
    "        categoria_dict = row.get('categoria', {})\n",
    "        categoria_id = next(iter(categoria_dict), None)\n",
    "        categoria_nome = categoria_dict.get(categoria_id) if categoria_id else None\n",
    "\n",
    "        base_info = {\n",
    "            'id': row['id'],\n",
    "            'variavel': row['variavel'],\n",
    "            'unidade': row['unidade'],\n",
    "            'categoria_id': categoria_id,\n",
    "            'categoria_nome': categoria_nome,\n",
    "            'localidade_id': localidade['id'],\n",
    "            'localidade_nome': localidade['nome'],\n",
    "            'nivel_id': localidade['nivel']['id'],\n",
    "            'nivel_nome': localidade['nivel']['nome']\n",
    "        }\n",
    "\n",
    "        for ano, valor in serie_anos.items():\n",
    "            nova_linha = base_info.copy()\n",
    "            nova_linha['ano'] = ano\n",
    "            nova_linha['valor'] = valor\n",
    "            linha_list.append(nova_linha)\n",
    "\n",
    "# Cria o DataFrame final\n",
    "df_final = pd.DataFrame(linha_list)\n",
    "\n",
    "# Exemplo: ver as primeiras linhas\n",
    "print(df_final.head())"
   ]
  },
  {
   "cell_type": "code",
   "execution_count": 16,
   "id": "afa6a530",
   "metadata": {},
   "outputs": [],
   "source": [
    "# Salva o DataFrame final em um arquivo Excel\n",
    "df_final.to_excel('populacao_tabulada.xlsx', index=False)"
   ]
  }
 ],
 "metadata": {
  "kernelspec": {
   "display_name": "Python 3",
   "language": "python",
   "name": "python3"
  },
  "language_info": {
   "codemirror_mode": {
    "name": "ipython",
    "version": 3
   },
   "file_extension": ".py",
   "mimetype": "text/x-python",
   "name": "python",
   "nbconvert_exporter": "python",
   "pygments_lexer": "ipython3",
   "version": "3.12.3"
  }
 },
 "nbformat": 4,
 "nbformat_minor": 5
}
